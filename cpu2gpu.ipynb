{
 "cells": [
  {
   "cell_type": "code",
   "execution_count": 1,
   "id": "7cc83a75-c2ed-4cca-8323-857be883fdac",
   "metadata": {
    "tags": []
   },
   "outputs": [],
   "source": [
    "import Nio\n",
    "import xarray as xr\n",
    "import math\n",
    "import glob\n",
    "import pandas as pd\n",
    "from datetime import datetime, timedelta"
   ]
  },
  {
   "cell_type": "code",
   "execution_count": null,
   "id": "7970dc99-38ff-4d0e-b670-2b36c386a5b2",
   "metadata": {
    "tags": []
   },
   "outputs": [],
   "source": [
    "path = \"data/gfsanl_4_20171107_0000_000.grb2\"\n",
    "\n",
    "ds = xr.open_dataset(path, engine=\"pynio\")\n",
    "df = ds.get([\"TMP_P0_L1_GLL0\", \"UGRD_P0_L100_GLL0\", \"VGRD_P0_L100_GLL0\"]).to_dataframe()"
   ]
  },
  {
   "cell_type": "code",
   "execution_count": 3,
   "id": "e1fcc410-e70f-449a-9cc2-43037b3b7100",
   "metadata": {
    "tags": []
   },
   "outputs": [],
   "source": [
    "latitudes = df.index.get_level_values(\"lat_0\")\n",
    "longitudes = df.index.get_level_values(\"lon_0\")\n",
    "\n",
    "map_function = lambda lon: (lon - 360) if (lon > 180) else lon\n",
    "remapped_longitudes = longitudes.map(map_function)\n",
    "\n",
    "df[\"longitude\"] = remapped_longitudes\n",
    "df[\"latitude\"] = latitudes    \n",
    "\n",
    "df = df.reset_index(drop=True)\n",
    "df.columns = [\"temperature\", \"u_component\", \"v_component\", \"longitude\", \"latitude\"]"
   ]
  },
  {
   "cell_type": "code",
   "execution_count": 4,
   "id": "f35545a5-cf4e-46a7-b578-fb408fb11b5a",
   "metadata": {
    "tags": []
   },
   "outputs": [
    {
     "data": {
      "text/html": [
       "<div>\n",
       "<style scoped>\n",
       "    .dataframe tbody tr th:only-of-type {\n",
       "        vertical-align: middle;\n",
       "    }\n",
       "\n",
       "    .dataframe tbody tr th {\n",
       "        vertical-align: top;\n",
       "    }\n",
       "\n",
       "    .dataframe thead th {\n",
       "        text-align: right;\n",
       "    }\n",
       "</style>\n",
       "<table border=\"1\" class=\"dataframe\">\n",
       "  <thead>\n",
       "    <tr style=\"text-align: right;\">\n",
       "      <th></th>\n",
       "      <th>temperature</th>\n",
       "      <th>u_component</th>\n",
       "      <th>v_component</th>\n",
       "      <th>longitude</th>\n",
       "      <th>latitude</th>\n",
       "    </tr>\n",
       "  </thead>\n",
       "  <tbody>\n",
       "    <tr>\n",
       "      <th>0</th>\n",
       "      <td>247.178085</td>\n",
       "      <td>-38.843361</td>\n",
       "      <td>4.000019</td>\n",
       "      <td>0.0</td>\n",
       "      <td>90.0</td>\n",
       "    </tr>\n",
       "    <tr>\n",
       "      <th>1</th>\n",
       "      <td>247.178085</td>\n",
       "      <td>-35.828548</td>\n",
       "      <td>1.100024</td>\n",
       "      <td>0.0</td>\n",
       "      <td>90.0</td>\n",
       "    </tr>\n",
       "    <tr>\n",
       "      <th>2</th>\n",
       "      <td>247.178085</td>\n",
       "      <td>-36.096478</td>\n",
       "      <td>0.199982</td>\n",
       "      <td>0.0</td>\n",
       "      <td>90.0</td>\n",
       "    </tr>\n",
       "    <tr>\n",
       "      <th>3</th>\n",
       "      <td>247.178085</td>\n",
       "      <td>-34.036407</td>\n",
       "      <td>-0.800006</td>\n",
       "      <td>0.0</td>\n",
       "      <td>90.0</td>\n",
       "    </tr>\n",
       "    <tr>\n",
       "      <th>4</th>\n",
       "      <td>247.178085</td>\n",
       "      <td>-31.010010</td>\n",
       "      <td>-0.700012</td>\n",
       "      <td>0.0</td>\n",
       "      <td>90.0</td>\n",
       "    </tr>\n",
       "    <tr>\n",
       "      <th>...</th>\n",
       "      <td>...</td>\n",
       "      <td>...</td>\n",
       "      <td>...</td>\n",
       "      <td>...</td>\n",
       "      <td>...</td>\n",
       "    </tr>\n",
       "    <tr>\n",
       "      <th>503590</th>\n",
       "      <td>253.978073</td>\n",
       "      <td>0.940039</td>\n",
       "      <td>4.868413</td>\n",
       "      <td>-158.0</td>\n",
       "      <td>79.0</td>\n",
       "    </tr>\n",
       "    <tr>\n",
       "      <th>503591</th>\n",
       "      <td>253.978073</td>\n",
       "      <td>-0.510283</td>\n",
       "      <td>5.938098</td>\n",
       "      <td>-158.0</td>\n",
       "      <td>79.0</td>\n",
       "    </tr>\n",
       "    <tr>\n",
       "      <th>503592</th>\n",
       "      <td>253.978073</td>\n",
       "      <td>-2.153777</td>\n",
       "      <td>6.939585</td>\n",
       "      <td>-158.0</td>\n",
       "      <td>79.0</td>\n",
       "    </tr>\n",
       "    <tr>\n",
       "      <th>503593</th>\n",
       "      <td>253.978073</td>\n",
       "      <td>-3.987563</td>\n",
       "      <td>8.009817</td>\n",
       "      <td>-158.0</td>\n",
       "      <td>79.0</td>\n",
       "    </tr>\n",
       "    <tr>\n",
       "      <th>503594</th>\n",
       "      <td>253.978073</td>\n",
       "      <td>-6.921941</td>\n",
       "      <td>6.819248</td>\n",
       "      <td>-158.0</td>\n",
       "      <td>79.0</td>\n",
       "    </tr>\n",
       "  </tbody>\n",
       "</table>\n",
       "<p>503595 rows × 5 columns</p>\n",
       "</div>"
      ],
      "text/plain": [
       "        temperature  u_component  v_component  longitude  latitude\n",
       "0        247.178085   -38.843361     4.000019        0.0      90.0\n",
       "1        247.178085   -35.828548     1.100024        0.0      90.0\n",
       "2        247.178085   -36.096478     0.199982        0.0      90.0\n",
       "3        247.178085   -34.036407    -0.800006        0.0      90.0\n",
       "4        247.178085   -31.010010    -0.700012        0.0      90.0\n",
       "...             ...          ...          ...        ...       ...\n",
       "503590   253.978073     0.940039     4.868413     -158.0      79.0\n",
       "503591   253.978073    -0.510283     5.938098     -158.0      79.0\n",
       "503592   253.978073    -2.153777     6.939585     -158.0      79.0\n",
       "503593   253.978073    -3.987563     8.009817     -158.0      79.0\n",
       "503594   253.978073    -6.921941     6.819248     -158.0      79.0\n",
       "\n",
       "[503595 rows x 5 columns]"
      ]
     },
     "execution_count": 4,
     "metadata": {},
     "output_type": "execute_result"
    }
   ],
   "source": [
    "# Small data: 1/16 times original data\n",
    "df_small = df.iloc[0:503595].copy()\n",
    "df_small"
   ]
  },
  {
   "cell_type": "code",
   "execution_count": 5,
   "id": "f8365609-e4b0-4b9f-9fec-14c8aaa9af78",
   "metadata": {
    "tags": []
   },
   "outputs": [
    {
     "data": {
      "text/plain": [
       "503595.0"
      ]
     },
     "execution_count": 5,
     "metadata": {},
     "output_type": "execute_result"
    }
   ],
   "source": [
    "8057520/16"
   ]
  },
  {
   "cell_type": "code",
   "execution_count": 6,
   "id": "d0ae58b0-dde7-4a17-ab78-f98c065537b0",
   "metadata": {
    "tags": []
   },
   "outputs": [
    {
     "name": "stderr",
     "output_type": "stream",
     "text": [
      "100%|██████████| 6/6 [00:06<00:00,  1.07s/it]\n"
     ]
    }
   ],
   "source": [
    "# Big data: 64 times original data\n",
    "from tqdm import tqdm\n",
    "for i in tqdm(range(6)):\n",
    "    df = pd.concat([df,df])\n",
    "df = df.reset_index(drop=True)"
   ]
  },
  {
   "cell_type": "code",
   "execution_count": 7,
   "id": "e25107e9-3871-4d45-a8e8-3db83b8972b2",
   "metadata": {
    "tags": []
   },
   "outputs": [
    {
     "data": {
      "text/html": [
       "<div>\n",
       "<style scoped>\n",
       "    .dataframe tbody tr th:only-of-type {\n",
       "        vertical-align: middle;\n",
       "    }\n",
       "\n",
       "    .dataframe tbody tr th {\n",
       "        vertical-align: top;\n",
       "    }\n",
       "\n",
       "    .dataframe thead th {\n",
       "        text-align: right;\n",
       "    }\n",
       "</style>\n",
       "<table border=\"1\" class=\"dataframe\">\n",
       "  <thead>\n",
       "    <tr style=\"text-align: right;\">\n",
       "      <th></th>\n",
       "      <th>temperature</th>\n",
       "      <th>u_component</th>\n",
       "      <th>v_component</th>\n",
       "      <th>longitude</th>\n",
       "      <th>latitude</th>\n",
       "    </tr>\n",
       "  </thead>\n",
       "  <tbody>\n",
       "    <tr>\n",
       "      <th>0</th>\n",
       "      <td>247.178085</td>\n",
       "      <td>-38.843361</td>\n",
       "      <td>4.000019</td>\n",
       "      <td>0.0</td>\n",
       "      <td>90.0</td>\n",
       "    </tr>\n",
       "    <tr>\n",
       "      <th>1</th>\n",
       "      <td>247.178085</td>\n",
       "      <td>-35.828548</td>\n",
       "      <td>1.100024</td>\n",
       "      <td>0.0</td>\n",
       "      <td>90.0</td>\n",
       "    </tr>\n",
       "    <tr>\n",
       "      <th>2</th>\n",
       "      <td>247.178085</td>\n",
       "      <td>-36.096478</td>\n",
       "      <td>0.199982</td>\n",
       "      <td>0.0</td>\n",
       "      <td>90.0</td>\n",
       "    </tr>\n",
       "    <tr>\n",
       "      <th>3</th>\n",
       "      <td>247.178085</td>\n",
       "      <td>-34.036407</td>\n",
       "      <td>-0.800006</td>\n",
       "      <td>0.0</td>\n",
       "      <td>90.0</td>\n",
       "    </tr>\n",
       "    <tr>\n",
       "      <th>4</th>\n",
       "      <td>247.178085</td>\n",
       "      <td>-31.010010</td>\n",
       "      <td>-0.700012</td>\n",
       "      <td>0.0</td>\n",
       "      <td>90.0</td>\n",
       "    </tr>\n",
       "    <tr>\n",
       "      <th>...</th>\n",
       "      <td>...</td>\n",
       "      <td>...</td>\n",
       "      <td>...</td>\n",
       "      <td>...</td>\n",
       "      <td>...</td>\n",
       "    </tr>\n",
       "    <tr>\n",
       "      <th>515681275</th>\n",
       "      <td>243.478073</td>\n",
       "      <td>1.780039</td>\n",
       "      <td>-6.711587</td>\n",
       "      <td>-0.5</td>\n",
       "      <td>-90.0</td>\n",
       "    </tr>\n",
       "    <tr>\n",
       "      <th>515681276</th>\n",
       "      <td>243.478073</td>\n",
       "      <td>1.779717</td>\n",
       "      <td>-6.711902</td>\n",
       "      <td>-0.5</td>\n",
       "      <td>-90.0</td>\n",
       "    </tr>\n",
       "    <tr>\n",
       "      <th>515681277</th>\n",
       "      <td>243.478073</td>\n",
       "      <td>1.776223</td>\n",
       "      <td>-6.710415</td>\n",
       "      <td>-0.5</td>\n",
       "      <td>-90.0</td>\n",
       "    </tr>\n",
       "    <tr>\n",
       "      <th>515681278</th>\n",
       "      <td>243.478073</td>\n",
       "      <td>1.772436</td>\n",
       "      <td>-6.710183</td>\n",
       "      <td>-0.5</td>\n",
       "      <td>-90.0</td>\n",
       "    </tr>\n",
       "    <tr>\n",
       "      <th>515681279</th>\n",
       "      <td>243.478073</td>\n",
       "      <td>1.778059</td>\n",
       "      <td>-6.710752</td>\n",
       "      <td>-0.5</td>\n",
       "      <td>-90.0</td>\n",
       "    </tr>\n",
       "  </tbody>\n",
       "</table>\n",
       "<p>515681280 rows × 5 columns</p>\n",
       "</div>"
      ],
      "text/plain": [
       "           temperature  u_component  v_component  longitude  latitude\n",
       "0           247.178085   -38.843361     4.000019        0.0      90.0\n",
       "1           247.178085   -35.828548     1.100024        0.0      90.0\n",
       "2           247.178085   -36.096478     0.199982        0.0      90.0\n",
       "3           247.178085   -34.036407    -0.800006        0.0      90.0\n",
       "4           247.178085   -31.010010    -0.700012        0.0      90.0\n",
       "...                ...          ...          ...        ...       ...\n",
       "515681275   243.478073     1.780039    -6.711587       -0.5     -90.0\n",
       "515681276   243.478073     1.779717    -6.711902       -0.5     -90.0\n",
       "515681277   243.478073     1.776223    -6.710415       -0.5     -90.0\n",
       "515681278   243.478073     1.772436    -6.710183       -0.5     -90.0\n",
       "515681279   243.478073     1.778059    -6.710752       -0.5     -90.0\n",
       "\n",
       "[515681280 rows x 5 columns]"
      ]
     },
     "execution_count": 7,
     "metadata": {},
     "output_type": "execute_result"
    }
   ],
   "source": [
    "df"
   ]
  },
  {
   "cell_type": "markdown",
   "id": "3c1636d5-a6c6-44de-b7ec-55905ee8927c",
   "metadata": {},
   "source": [
    "# Calculate Wind Speed and Direction"
   ]
  },
  {
   "cell_type": "code",
   "execution_count": 8,
   "id": "48f2cd0d-b985-4e64-b23b-a47c5b345a52",
   "metadata": {
    "tags": []
   },
   "outputs": [],
   "source": [
    "def find_wind_speed_and_direction(u, v):\n",
    "    if u == 0 and v == 0:\n",
    "        return 0, 0\n",
    "    \n",
    "    wind_speed = math.sqrt(u**2 + v**2)\n",
    "    wind_speed *= 18/5\n",
    "    \n",
    "    wind_direction = math.atan2(u/wind_speed, v/wind_speed) + math.pi\n",
    "    wind_direction *= 180/math.pi\n",
    "    \n",
    "    return wind_speed, wind_direction"
   ]
  },
  {
   "cell_type": "markdown",
   "id": "507465e8-20fb-43b0-9142-5b7e4b77b5c7",
   "metadata": {},
   "source": [
    "## Simple Loop (CPU)"
   ]
  },
  {
   "cell_type": "code",
   "execution_count": 9,
   "id": "dde883de-ebf7-4b5a-91ab-49f177f185be",
   "metadata": {
    "tags": []
   },
   "outputs": [
    {
     "name": "stdout",
     "output_type": "stream",
     "text": [
      "CPU times: user 4.23 s, sys: 6.62 ms, total: 4.24 s\n",
      "Wall time: 4.24 s\n"
     ]
    }
   ],
   "source": [
    "%%time\n",
    "lst_wind_speed = []\n",
    "lst_wind_direction = []\n",
    "\n",
    "u_component = df_small[\"u_component\"]\n",
    "v_component = df_small[\"v_component\"]\n",
    "\n",
    "arr_size = u_component.shape[0]\n",
    "\n",
    "for i in range(arr_size):\n",
    "    u = u_component[i]\n",
    "    v = v_component[i]\n",
    "    wind_speed, wind_direction = find_wind_speed_and_direction(u,v)\n",
    "    lst_wind_speed.append(wind_speed)\n",
    "    lst_wind_direction.append(wind_direction)\n",
    "    \n",
    "df_small[\"wind_speed\"] = lst_wind_speed\n",
    "df_small[\"wind_direction\"] = lst_wind_direction"
   ]
  },
  {
   "cell_type": "code",
   "execution_count": 10,
   "id": "4c0d537a-26d8-46fe-9032-9cf781bc43a4",
   "metadata": {
    "tags": []
   },
   "outputs": [
    {
     "data": {
      "text/html": [
       "<div>\n",
       "<style scoped>\n",
       "    .dataframe tbody tr th:only-of-type {\n",
       "        vertical-align: middle;\n",
       "    }\n",
       "\n",
       "    .dataframe tbody tr th {\n",
       "        vertical-align: top;\n",
       "    }\n",
       "\n",
       "    .dataframe thead th {\n",
       "        text-align: right;\n",
       "    }\n",
       "</style>\n",
       "<table border=\"1\" class=\"dataframe\">\n",
       "  <thead>\n",
       "    <tr style=\"text-align: right;\">\n",
       "      <th></th>\n",
       "      <th>wind_speed</th>\n",
       "      <th>wind_direction</th>\n",
       "    </tr>\n",
       "  </thead>\n",
       "  <tbody>\n",
       "    <tr>\n",
       "      <th>0</th>\n",
       "      <td>140.575590</td>\n",
       "      <td>95.879490</td>\n",
       "    </tr>\n",
       "    <tr>\n",
       "      <th>1</th>\n",
       "      <td>129.043552</td>\n",
       "      <td>91.758569</td>\n",
       "    </tr>\n",
       "    <tr>\n",
       "      <th>2</th>\n",
       "      <td>129.949313</td>\n",
       "      <td>90.317427</td>\n",
       "    </tr>\n",
       "    <tr>\n",
       "      <th>3</th>\n",
       "      <td>122.564909</td>\n",
       "      <td>88.653544</td>\n",
       "    </tr>\n",
       "    <tr>\n",
       "      <th>4</th>\n",
       "      <td>111.664475</td>\n",
       "      <td>88.706839</td>\n",
       "    </tr>\n",
       "    <tr>\n",
       "      <th>...</th>\n",
       "      <td>...</td>\n",
       "      <td>...</td>\n",
       "    </tr>\n",
       "    <tr>\n",
       "      <th>503590</th>\n",
       "      <td>17.850018</td>\n",
       "      <td>190.928713</td>\n",
       "    </tr>\n",
       "    <tr>\n",
       "      <th>503591</th>\n",
       "      <td>21.455938</td>\n",
       "      <td>175.088424</td>\n",
       "    </tr>\n",
       "    <tr>\n",
       "      <th>503592</th>\n",
       "      <td>26.158055</td>\n",
       "      <td>162.757692</td>\n",
       "    </tr>\n",
       "    <tr>\n",
       "      <th>503593</th>\n",
       "      <td>32.211015</td>\n",
       "      <td>153.534294</td>\n",
       "    </tr>\n",
       "    <tr>\n",
       "      <th>503594</th>\n",
       "      <td>34.980332</td>\n",
       "      <td>134.571815</td>\n",
       "    </tr>\n",
       "  </tbody>\n",
       "</table>\n",
       "<p>503595 rows × 2 columns</p>\n",
       "</div>"
      ],
      "text/plain": [
       "        wind_speed  wind_direction\n",
       "0       140.575590       95.879490\n",
       "1       129.043552       91.758569\n",
       "2       129.949313       90.317427\n",
       "3       122.564909       88.653544\n",
       "4       111.664475       88.706839\n",
       "...            ...             ...\n",
       "503590   17.850018      190.928713\n",
       "503591   21.455938      175.088424\n",
       "503592   26.158055      162.757692\n",
       "503593   32.211015      153.534294\n",
       "503594   34.980332      134.571815\n",
       "\n",
       "[503595 rows x 2 columns]"
      ]
     },
     "execution_count": 10,
     "metadata": {},
     "output_type": "execute_result"
    }
   ],
   "source": [
    "df_small[[\"wind_speed\", \"wind_direction\"]]"
   ]
  },
  {
   "cell_type": "markdown",
   "id": "5e24502f-c627-444e-b15c-66bfd74549fa",
   "metadata": {
    "tags": []
   },
   "source": [
    "## Pandas Apply (CPU)"
   ]
  },
  {
   "cell_type": "code",
   "execution_count": 11,
   "id": "6959d97a-c113-4ca5-a6a3-9c07ad4c5169",
   "metadata": {
    "tags": []
   },
   "outputs": [
    {
     "name": "stdout",
     "output_type": "stream",
     "text": [
      "CPU times: user 4.97 s, sys: 140 ms, total: 5.11 s\n",
      "Wall time: 5.11 s\n"
     ]
    }
   ],
   "source": [
    "%%time\n",
    "df_small[[\"wind_speed\", \"wind_direction\"]] = df_small[[\"u_component\", \"v_component\"]].apply(lambda x: find_wind_speed_and_direction(*x), axis=1, result_type=\"expand\")"
   ]
  },
  {
   "cell_type": "code",
   "execution_count": 12,
   "id": "32704598-88e2-46bd-aa3a-e6a345b209cd",
   "metadata": {
    "tags": []
   },
   "outputs": [
    {
     "data": {
      "text/html": [
       "<div>\n",
       "<style scoped>\n",
       "    .dataframe tbody tr th:only-of-type {\n",
       "        vertical-align: middle;\n",
       "    }\n",
       "\n",
       "    .dataframe tbody tr th {\n",
       "        vertical-align: top;\n",
       "    }\n",
       "\n",
       "    .dataframe thead th {\n",
       "        text-align: right;\n",
       "    }\n",
       "</style>\n",
       "<table border=\"1\" class=\"dataframe\">\n",
       "  <thead>\n",
       "    <tr style=\"text-align: right;\">\n",
       "      <th></th>\n",
       "      <th>wind_speed</th>\n",
       "      <th>wind_direction</th>\n",
       "    </tr>\n",
       "  </thead>\n",
       "  <tbody>\n",
       "    <tr>\n",
       "      <th>0</th>\n",
       "      <td>140.575590</td>\n",
       "      <td>95.879490</td>\n",
       "    </tr>\n",
       "    <tr>\n",
       "      <th>1</th>\n",
       "      <td>129.043552</td>\n",
       "      <td>91.758569</td>\n",
       "    </tr>\n",
       "    <tr>\n",
       "      <th>2</th>\n",
       "      <td>129.949313</td>\n",
       "      <td>90.317427</td>\n",
       "    </tr>\n",
       "    <tr>\n",
       "      <th>3</th>\n",
       "      <td>122.564909</td>\n",
       "      <td>88.653544</td>\n",
       "    </tr>\n",
       "    <tr>\n",
       "      <th>4</th>\n",
       "      <td>111.664475</td>\n",
       "      <td>88.706839</td>\n",
       "    </tr>\n",
       "    <tr>\n",
       "      <th>...</th>\n",
       "      <td>...</td>\n",
       "      <td>...</td>\n",
       "    </tr>\n",
       "    <tr>\n",
       "      <th>503590</th>\n",
       "      <td>17.850018</td>\n",
       "      <td>190.928713</td>\n",
       "    </tr>\n",
       "    <tr>\n",
       "      <th>503591</th>\n",
       "      <td>21.455938</td>\n",
       "      <td>175.088424</td>\n",
       "    </tr>\n",
       "    <tr>\n",
       "      <th>503592</th>\n",
       "      <td>26.158055</td>\n",
       "      <td>162.757692</td>\n",
       "    </tr>\n",
       "    <tr>\n",
       "      <th>503593</th>\n",
       "      <td>32.211015</td>\n",
       "      <td>153.534294</td>\n",
       "    </tr>\n",
       "    <tr>\n",
       "      <th>503594</th>\n",
       "      <td>34.980332</td>\n",
       "      <td>134.571815</td>\n",
       "    </tr>\n",
       "  </tbody>\n",
       "</table>\n",
       "<p>503595 rows × 2 columns</p>\n",
       "</div>"
      ],
      "text/plain": [
       "        wind_speed  wind_direction\n",
       "0       140.575590       95.879490\n",
       "1       129.043552       91.758569\n",
       "2       129.949313       90.317427\n",
       "3       122.564909       88.653544\n",
       "4       111.664475       88.706839\n",
       "...            ...             ...\n",
       "503590   17.850018      190.928713\n",
       "503591   21.455938      175.088424\n",
       "503592   26.158055      162.757692\n",
       "503593   32.211015      153.534294\n",
       "503594   34.980332      134.571815\n",
       "\n",
       "[503595 rows x 2 columns]"
      ]
     },
     "execution_count": 12,
     "metadata": {},
     "output_type": "execute_result"
    }
   ],
   "source": [
    "df_small[[\"wind_speed\", \"wind_direction\"]]"
   ]
  },
  {
   "cell_type": "markdown",
   "id": "4d18218a-12d4-49c0-bab8-09145d6ce66f",
   "metadata": {},
   "source": [
    "## Numpy (CPU)"
   ]
  },
  {
   "cell_type": "code",
   "execution_count": 13,
   "id": "27cb1375-5c74-4ce3-8907-9496fa793c02",
   "metadata": {
    "tags": []
   },
   "outputs": [],
   "source": [
    "import numpy as np"
   ]
  },
  {
   "cell_type": "code",
   "execution_count": 14,
   "id": "1cc56356-b17f-49e8-8732-d9a448de044d",
   "metadata": {
    "tags": []
   },
   "outputs": [],
   "source": [
    "u_component_np_small = np.array(df_small[\"u_component\"])\n",
    "v_component_np_small = np.array(df_small[\"v_component\"])"
   ]
  },
  {
   "cell_type": "code",
   "execution_count": 15,
   "id": "d6e5ba81-8cee-46b8-b9a7-e725ac63e472",
   "metadata": {},
   "outputs": [],
   "source": [
    "u_component_np = np.array(df[\"u_component\"])\n",
    "v_component_np = np.array(df[\"v_component\"])"
   ]
  },
  {
   "cell_type": "code",
   "execution_count": 16,
   "id": "e02180ee-5c48-45c0-bcbc-e96ca3680a8f",
   "metadata": {
    "tags": []
   },
   "outputs": [],
   "source": [
    "def find_wind_speed_and_direction_np(u, v):\n",
    "    wind_speed = np.sqrt(u**2 + v**2)\n",
    "    wind_speed *= 18/5\n",
    "    \n",
    "    wind_direction = np.arctan2(u/wind_speed, v/wind_speed) + math.pi\n",
    "    wind_direction *= 180/math.pi\n",
    "    \n",
    "    wind_direction[wind_direction == float(\"Inf\")] = 0\n",
    "    wind_direction[wind_direction == float(\"-Inf\")] = 0\n",
    "    \n",
    "    return wind_speed, wind_direction"
   ]
  },
  {
   "cell_type": "code",
   "execution_count": 17,
   "id": "83153cfd-c3c8-4825-bd48-e418d53a7481",
   "metadata": {},
   "outputs": [
    {
     "name": "stdout",
     "output_type": "stream",
     "text": [
      "CPU times: user 2.33 ms, sys: 0 ns, total: 2.33 ms\n",
      "Wall time: 2.16 ms\n"
     ]
    }
   ],
   "source": [
    "%%time\n",
    "# small data\n",
    "wind_speed, wind_direction = find_wind_speed_and_direction_np(u_component_np_small,v_component_np_small)"
   ]
  },
  {
   "cell_type": "code",
   "execution_count": 18,
   "id": "eda8dda4-f7b4-4145-aeb8-ce0afce51ea0",
   "metadata": {
    "tags": []
   },
   "outputs": [
    {
     "name": "stdout",
     "output_type": "stream",
     "text": [
      "CPU times: user 2.34 s, sys: 1.72 s, total: 4.06 s\n",
      "Wall time: 4.06 s\n"
     ]
    }
   ],
   "source": [
    "%%time\n",
    "# big data\n",
    "wind_speed, wind_direction = find_wind_speed_and_direction_np(u_component_np,v_component_np)"
   ]
  },
  {
   "cell_type": "code",
   "execution_count": 19,
   "id": "cac5b472-80cb-429b-a516-b1a4e2894e38",
   "metadata": {
    "tags": []
   },
   "outputs": [
    {
     "data": {
      "text/html": [
       "<div>\n",
       "<style scoped>\n",
       "    .dataframe tbody tr th:only-of-type {\n",
       "        vertical-align: middle;\n",
       "    }\n",
       "\n",
       "    .dataframe tbody tr th {\n",
       "        vertical-align: top;\n",
       "    }\n",
       "\n",
       "    .dataframe thead th {\n",
       "        text-align: right;\n",
       "    }\n",
       "</style>\n",
       "<table border=\"1\" class=\"dataframe\">\n",
       "  <thead>\n",
       "    <tr style=\"text-align: right;\">\n",
       "      <th></th>\n",
       "      <th>wind_speed</th>\n",
       "      <th>wind_direction</th>\n",
       "    </tr>\n",
       "  </thead>\n",
       "  <tbody>\n",
       "    <tr>\n",
       "      <th>0</th>\n",
       "      <td>140.575592</td>\n",
       "      <td>95.879494</td>\n",
       "    </tr>\n",
       "    <tr>\n",
       "      <th>1</th>\n",
       "      <td>129.043549</td>\n",
       "      <td>91.758575</td>\n",
       "    </tr>\n",
       "    <tr>\n",
       "      <th>2</th>\n",
       "      <td>129.949310</td>\n",
       "      <td>90.317429</td>\n",
       "    </tr>\n",
       "    <tr>\n",
       "      <th>3</th>\n",
       "      <td>122.564903</td>\n",
       "      <td>88.653549</td>\n",
       "    </tr>\n",
       "    <tr>\n",
       "      <th>4</th>\n",
       "      <td>111.664474</td>\n",
       "      <td>88.706841</td>\n",
       "    </tr>\n",
       "    <tr>\n",
       "      <th>...</th>\n",
       "      <td>...</td>\n",
       "      <td>...</td>\n",
       "    </tr>\n",
       "    <tr>\n",
       "      <th>515681275</th>\n",
       "      <td>24.997051</td>\n",
       "      <td>345.146088</td>\n",
       "    </tr>\n",
       "    <tr>\n",
       "      <th>515681276</th>\n",
       "      <td>24.997850</td>\n",
       "      <td>345.149292</td>\n",
       "    </tr>\n",
       "    <tr>\n",
       "      <th>515681277</th>\n",
       "      <td>24.989454</td>\n",
       "      <td>345.174042</td>\n",
       "    </tr>\n",
       "    <tr>\n",
       "      <th>515681278</th>\n",
       "      <td>24.985163</td>\n",
       "      <td>345.203766</td>\n",
       "    </tr>\n",
       "    <tr>\n",
       "      <th>515681279</th>\n",
       "      <td>24.992319</td>\n",
       "      <td>345.160126</td>\n",
       "    </tr>\n",
       "  </tbody>\n",
       "</table>\n",
       "<p>515681280 rows × 2 columns</p>\n",
       "</div>"
      ],
      "text/plain": [
       "           wind_speed  wind_direction\n",
       "0          140.575592       95.879494\n",
       "1          129.043549       91.758575\n",
       "2          129.949310       90.317429\n",
       "3          122.564903       88.653549\n",
       "4          111.664474       88.706841\n",
       "...               ...             ...\n",
       "515681275   24.997051      345.146088\n",
       "515681276   24.997850      345.149292\n",
       "515681277   24.989454      345.174042\n",
       "515681278   24.985163      345.203766\n",
       "515681279   24.992319      345.160126\n",
       "\n",
       "[515681280 rows x 2 columns]"
      ]
     },
     "execution_count": 19,
     "metadata": {},
     "output_type": "execute_result"
    }
   ],
   "source": [
    "df[\"wind_speed\"] = wind_speed\n",
    "df[\"wind_direction\"] = wind_direction\n",
    "\n",
    "df[[\"wind_speed\", \"wind_direction\"]]"
   ]
  },
  {
   "cell_type": "markdown",
   "id": "0b2a8b6e-a5ae-42e9-b0be-97ab074f7c4b",
   "metadata": {},
   "source": [
    "## CuPy (GPU)"
   ]
  },
  {
   "cell_type": "code",
   "execution_count": 20,
   "id": "e7800be6-92fe-4b14-8890-66742c13ee21",
   "metadata": {
    "tags": []
   },
   "outputs": [],
   "source": [
    "import cupy as cp"
   ]
  },
  {
   "cell_type": "code",
   "execution_count": 21,
   "id": "660e2228-f230-43fa-a9a9-1de772066085",
   "metadata": {},
   "outputs": [],
   "source": [
    "u_component_cupy = cp.array(df[\"u_component\"])\n",
    "v_component_cupy = cp.array(df[\"v_component\"])"
   ]
  },
  {
   "cell_type": "code",
   "execution_count": 22,
   "id": "f3346593-6c27-433f-9e05-a83fa67faa59",
   "metadata": {
    "tags": []
   },
   "outputs": [],
   "source": [
    "def find_wind_speed_and_direction_cupy(u, v):\n",
    "    wind_speed = cp.sqrt(u**2 + v**2)\n",
    "    wind_speed *= 18/5\n",
    "    \n",
    "    wind_direction = cp.arctan2(u/wind_speed, v/wind_speed) + cp.pi\n",
    "    wind_direction *= 180/cp.pi\n",
    "    \n",
    "    wind_direction[wind_direction == float(\"Inf\")] = 0\n",
    "    wind_direction[wind_direction == float(\"-Inf\")] = 0\n",
    "    \n",
    "    return wind_speed, wind_direction"
   ]
  },
  {
   "cell_type": "code",
   "execution_count": 23,
   "id": "8cf9ec7d-f615-4059-a01d-70da7bfe06c8",
   "metadata": {
    "tags": []
   },
   "outputs": [
    {
     "name": "stdout",
     "output_type": "stream",
     "text": [
      "CPU times: user 57.7 ms, sys: 9 ms, total: 66.7 ms\n",
      "Wall time: 75 ms\n"
     ]
    }
   ],
   "source": [
    "%%time\n",
    "wind_speed, wind_direction = find_wind_speed_and_direction_cupy(u_component_cupy,v_component_cupy)"
   ]
  },
  {
   "cell_type": "code",
   "execution_count": 24,
   "id": "b4ae46f7-bdc5-40bb-85d3-c0528cb28015",
   "metadata": {
    "tags": []
   },
   "outputs": [
    {
     "data": {
      "text/html": [
       "<div>\n",
       "<style scoped>\n",
       "    .dataframe tbody tr th:only-of-type {\n",
       "        vertical-align: middle;\n",
       "    }\n",
       "\n",
       "    .dataframe tbody tr th {\n",
       "        vertical-align: top;\n",
       "    }\n",
       "\n",
       "    .dataframe thead th {\n",
       "        text-align: right;\n",
       "    }\n",
       "</style>\n",
       "<table border=\"1\" class=\"dataframe\">\n",
       "  <thead>\n",
       "    <tr style=\"text-align: right;\">\n",
       "      <th></th>\n",
       "      <th>wind_speed</th>\n",
       "      <th>wind_direction</th>\n",
       "    </tr>\n",
       "  </thead>\n",
       "  <tbody>\n",
       "    <tr>\n",
       "      <th>0</th>\n",
       "      <td>140.575592</td>\n",
       "      <td>95.879494</td>\n",
       "    </tr>\n",
       "    <tr>\n",
       "      <th>1</th>\n",
       "      <td>129.043549</td>\n",
       "      <td>91.758575</td>\n",
       "    </tr>\n",
       "    <tr>\n",
       "      <th>2</th>\n",
       "      <td>129.949310</td>\n",
       "      <td>90.317429</td>\n",
       "    </tr>\n",
       "    <tr>\n",
       "      <th>3</th>\n",
       "      <td>122.564903</td>\n",
       "      <td>88.653549</td>\n",
       "    </tr>\n",
       "    <tr>\n",
       "      <th>4</th>\n",
       "      <td>111.664474</td>\n",
       "      <td>88.706841</td>\n",
       "    </tr>\n",
       "    <tr>\n",
       "      <th>...</th>\n",
       "      <td>...</td>\n",
       "      <td>...</td>\n",
       "    </tr>\n",
       "    <tr>\n",
       "      <th>515681275</th>\n",
       "      <td>24.997051</td>\n",
       "      <td>345.146088</td>\n",
       "    </tr>\n",
       "    <tr>\n",
       "      <th>515681276</th>\n",
       "      <td>24.997850</td>\n",
       "      <td>345.149292</td>\n",
       "    </tr>\n",
       "    <tr>\n",
       "      <th>515681277</th>\n",
       "      <td>24.989454</td>\n",
       "      <td>345.174042</td>\n",
       "    </tr>\n",
       "    <tr>\n",
       "      <th>515681278</th>\n",
       "      <td>24.985163</td>\n",
       "      <td>345.203766</td>\n",
       "    </tr>\n",
       "    <tr>\n",
       "      <th>515681279</th>\n",
       "      <td>24.992319</td>\n",
       "      <td>345.160126</td>\n",
       "    </tr>\n",
       "  </tbody>\n",
       "</table>\n",
       "<p>515681280 rows × 2 columns</p>\n",
       "</div>"
      ],
      "text/plain": [
       "           wind_speed  wind_direction\n",
       "0          140.575592       95.879494\n",
       "1          129.043549       91.758575\n",
       "2          129.949310       90.317429\n",
       "3          122.564903       88.653549\n",
       "4          111.664474       88.706841\n",
       "...               ...             ...\n",
       "515681275   24.997051      345.146088\n",
       "515681276   24.997850      345.149292\n",
       "515681277   24.989454      345.174042\n",
       "515681278   24.985163      345.203766\n",
       "515681279   24.992319      345.160126\n",
       "\n",
       "[515681280 rows x 2 columns]"
      ]
     },
     "execution_count": 24,
     "metadata": {},
     "output_type": "execute_result"
    }
   ],
   "source": [
    "df[\"wind_speed\"] = wind_speed.get()\n",
    "df[\"wind_direction\"] = wind_direction.get()\n",
    "\n",
    "df[[\"wind_speed\", \"wind_direction\"]]"
   ]
  },
  {
   "cell_type": "code",
   "execution_count": 25,
   "id": "298bf336-23e7-4355-9fad-f8e2f802a7de",
   "metadata": {},
   "outputs": [],
   "source": [
    "del u_component_cupy\n",
    "del v_component_cupy"
   ]
  },
  {
   "cell_type": "markdown",
   "id": "b1ddc194-6e9f-411f-be44-f65530ae78ce",
   "metadata": {},
   "source": [
    "## Pytorch (GPU)"
   ]
  },
  {
   "cell_type": "code",
   "execution_count": 26,
   "id": "3bc75a25-45f6-4a9b-b7d5-45acb0f2f3ee",
   "metadata": {
    "tags": []
   },
   "outputs": [],
   "source": [
    "import numpy as np\n",
    "import torch"
   ]
  },
  {
   "cell_type": "code",
   "execution_count": 27,
   "id": "b8888550-23ef-40d5-88f8-82ab991a415e",
   "metadata": {},
   "outputs": [],
   "source": [
    "u_component = np.array(df[\"u_component\"])\n",
    "v_component = np.array(df[\"v_component\"])\n",
    "\n",
    "u_component_pytorch = torch.tensor(u_component, dtype=torch.float64).to('cuda:0')\n",
    "v_component_pytorch = torch.tensor(v_component, dtype=torch.float64).to('cuda:0')"
   ]
  },
  {
   "cell_type": "code",
   "execution_count": 28,
   "id": "80f16879-116c-4d8c-8176-fd6e2603a40e",
   "metadata": {
    "tags": []
   },
   "outputs": [],
   "source": [
    "def find_wind_speed_and_direction_pytorch(u, v):\n",
    "    wind_speed = torch.sqrt(u**2 + v**2)\n",
    "    wind_speed *= 18/5\n",
    "    \n",
    "    wind_direction = torch.atan2(u/wind_speed, v/wind_speed) + math.pi\n",
    "    wind_direction *= 180/math.pi\n",
    "    \n",
    "    wind_direction[wind_direction == float(\"Inf\")] = 0\n",
    "    wind_direction[wind_direction == float(\"-Inf\")] = 0\n",
    "    \n",
    "    return wind_speed, wind_direction"
   ]
  },
  {
   "cell_type": "code",
   "execution_count": 29,
   "id": "ad322023-28af-4a50-9d0f-8721c2a95a41",
   "metadata": {
    "tags": []
   },
   "outputs": [
    {
     "name": "stdout",
     "output_type": "stream",
     "text": [
      "CPU times: user 56.7 ms, sys: 48.8 ms, total: 106 ms\n",
      "Wall time: 105 ms\n"
     ]
    }
   ],
   "source": [
    "%%time\n",
    "wind_speed, wind_direction = find_wind_speed_and_direction_pytorch(u_component_pytorch,v_component_pytorch)"
   ]
  },
  {
   "cell_type": "code",
   "execution_count": 30,
   "id": "382d6126-5614-43e0-af18-ac7048e7c7de",
   "metadata": {
    "tags": []
   },
   "outputs": [
    {
     "data": {
      "text/html": [
       "<div>\n",
       "<style scoped>\n",
       "    .dataframe tbody tr th:only-of-type {\n",
       "        vertical-align: middle;\n",
       "    }\n",
       "\n",
       "    .dataframe tbody tr th {\n",
       "        vertical-align: top;\n",
       "    }\n",
       "\n",
       "    .dataframe thead th {\n",
       "        text-align: right;\n",
       "    }\n",
       "</style>\n",
       "<table border=\"1\" class=\"dataframe\">\n",
       "  <thead>\n",
       "    <tr style=\"text-align: right;\">\n",
       "      <th></th>\n",
       "      <th>wind_speed</th>\n",
       "      <th>wind_direction</th>\n",
       "    </tr>\n",
       "  </thead>\n",
       "  <tbody>\n",
       "    <tr>\n",
       "      <th>0</th>\n",
       "      <td>140.575590</td>\n",
       "      <td>95.879490</td>\n",
       "    </tr>\n",
       "    <tr>\n",
       "      <th>1</th>\n",
       "      <td>129.043552</td>\n",
       "      <td>91.758569</td>\n",
       "    </tr>\n",
       "    <tr>\n",
       "      <th>2</th>\n",
       "      <td>129.949313</td>\n",
       "      <td>90.317427</td>\n",
       "    </tr>\n",
       "    <tr>\n",
       "      <th>3</th>\n",
       "      <td>122.564909</td>\n",
       "      <td>88.653544</td>\n",
       "    </tr>\n",
       "    <tr>\n",
       "      <th>4</th>\n",
       "      <td>111.664475</td>\n",
       "      <td>88.706839</td>\n",
       "    </tr>\n",
       "    <tr>\n",
       "      <th>...</th>\n",
       "      <td>...</td>\n",
       "      <td>...</td>\n",
       "    </tr>\n",
       "    <tr>\n",
       "      <th>515681275</th>\n",
       "      <td>24.997053</td>\n",
       "      <td>345.146060</td>\n",
       "    </tr>\n",
       "    <tr>\n",
       "      <th>515681276</th>\n",
       "      <td>24.997850</td>\n",
       "      <td>345.149296</td>\n",
       "    </tr>\n",
       "    <tr>\n",
       "      <th>515681277</th>\n",
       "      <td>24.989456</td>\n",
       "      <td>345.174025</td>\n",
       "    </tr>\n",
       "    <tr>\n",
       "      <th>515681278</th>\n",
       "      <td>24.985164</td>\n",
       "      <td>345.203754</td>\n",
       "    </tr>\n",
       "    <tr>\n",
       "      <th>515681279</th>\n",
       "      <td>24.992321</td>\n",
       "      <td>345.160089</td>\n",
       "    </tr>\n",
       "  </tbody>\n",
       "</table>\n",
       "<p>515681280 rows × 2 columns</p>\n",
       "</div>"
      ],
      "text/plain": [
       "           wind_speed  wind_direction\n",
       "0          140.575590       95.879490\n",
       "1          129.043552       91.758569\n",
       "2          129.949313       90.317427\n",
       "3          122.564909       88.653544\n",
       "4          111.664475       88.706839\n",
       "...               ...             ...\n",
       "515681275   24.997053      345.146060\n",
       "515681276   24.997850      345.149296\n",
       "515681277   24.989456      345.174025\n",
       "515681278   24.985164      345.203754\n",
       "515681279   24.992321      345.160089\n",
       "\n",
       "[515681280 rows x 2 columns]"
      ]
     },
     "execution_count": 30,
     "metadata": {},
     "output_type": "execute_result"
    }
   ],
   "source": [
    "df[\"wind_speed\"] = wind_speed.to('cpu').numpy()\n",
    "df[\"wind_direction\"] = wind_direction.to('cpu').numpy()\n",
    "\n",
    "df[[\"wind_speed\", \"wind_direction\"]]"
   ]
  },
  {
   "cell_type": "code",
   "execution_count": null,
   "id": "3c82a90e-1544-4abc-a11e-f7746f850a3c",
   "metadata": {},
   "outputs": [],
   "source": []
  }
 ],
 "metadata": {
  "kernelspec": {
   "display_name": "Python 3 (ipykernel)",
   "language": "python",
   "name": "python3"
  },
  "language_info": {
   "codemirror_mode": {
    "name": "ipython",
    "version": 3
   },
   "file_extension": ".py",
   "mimetype": "text/x-python",
   "name": "python",
   "nbconvert_exporter": "python",
   "pygments_lexer": "ipython3",
   "version": "3.11.6"
  }
 },
 "nbformat": 4,
 "nbformat_minor": 5
}
